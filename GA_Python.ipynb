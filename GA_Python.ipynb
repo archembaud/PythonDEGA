{
 "cells": [
  {
   "cell_type": "markdown",
   "metadata": {},
   "source": [
    "# Genetic Algorithms in Python\n",
    "\n",
    "#### Dr. Mathew Smith, ADACS, Swinburne University of Technology\n",
    "\n",
    "The application of Genetic Algorithsm (GA's) has become increasingly popular in engineering, mathematics and science research for studies and applications involving optimization. In this notebook, we examine the implementation of a Differential Evolution (DE) algorithm - a type of Genetic Algorithm - which emulates biological evolution for solution of an optimization problem. \n",
    "\n",
    "## Motivation\n",
    "\n",
    "Consider the Goldstein-Price function f(X,Y), which has a global minima of f(X,Y) = 3 at X = 0 and Y = -1:\n",
    "\n",
    "\\begin{align}\n",
    "f(X,Y) = (1 + (X+Y+1)^2(19-14X+3X^2-14Y+6XY+3Y^2)) \\\\\n",
    "                (30 + (2X-3Y)^2(18-32X+12X^2+48Y-36XY+27Y^2))\n",
    "                \\end{align}\n",
    "\n",
    "Suppose we wish to calculate the values of X and Y which provide the minimum (or maximum) value of f(X,Y). One may use a gradient-based approach - such as a Newton-Raphson based method - which employs partial derivitives of f(X,Y) with respect to X and Y and uses them to iterate towards the best values of X and Y. This approach may be complicated by the presence of local minima, which tend to trap solutions of this kind. So, in this case, we plan on using a Genetic Algorithm, which is a heuristic approach.\n",
    "\n",
    "## Genetic Algorithm Preamble\n",
    "\n",
    "In the equation above we have two solution parameters (specifically X and Y) which we shall refer to as genomes, collectively representing a solutions's DNA. For any given DNA pair, we have a value of f(X,Y) which we shall refer to as the \"fitness\" - which tells us \"how good\" the DNA is. Let's start by writing some Python code which computes the fitness based on the DNA:"
   ]
  },
  {
   "cell_type": "code",
   "execution_count": 1,
   "metadata": {},
   "outputs": [],
   "source": [
    "import matplotlib\n",
    "import matplotlib.pyplot as plt\n",
    "import numpy as np\n",
    "\n",
    "def ComputeFitness(X):\n",
    "        # Compute the fitness based on genetic data X\n",
    "        # X is an array of dimension (NO_VAR)\n",
    "        # The goal of the GA is the find the value of X which results\n",
    "        # in a maximum or mimimum value of this fitness function.\n",
    "\n",
    "        # Compute the Goldstein-Price function (two variables)\n",
    "        fitness = (1.0 + (X[0]+X[1]+1.0)*(X[0]+X[1]+1.0)*(19.0-14.0*X[0]+3.0*X[0]*X[0]-14.0*X[1]+6.0*X[0]*X[1]+3.0*X[1]*X[1]))* \\\n",
    "                (30.0 + (2.0*X[0]-3.0*X[1])*(2.0*X[0]-3.0*X[1])*(18.0-32.0*X[0]+12.0*X[0]*X[0]+48.0*X[1]-36.0*X[0]*X[1]+27.0*X[1]*X[1]));\n",
    "\n",
    "        return fitness"
   ]
  },
  {
   "cell_type": "markdown",
   "metadata": {},
   "source": [
    "The ComputeFitness() function takes only one argument - an array X which holds our DNA information, a.k.a our optimization solution parameters. Since the Goldstein-Price function has only two parameters (X and Y), we expect X to have a length of 2. Next, we need a way of identifying the fittest individual inside a population - for this, we write another function."
   ]
  },
  {
   "cell_type": "code",
   "execution_count": 2,
   "metadata": {},
   "outputs": [],
   "source": [
    "def ComputeBestKid(FITNESS):\n",
    "        # Computes the fittest child                              \n",
    "        # FITNESS is an array of dimension (NO_KIDS)\n",
    "        NO_KIDS = len(FITNESS)\n",
    "        BestFitness = 10000.0\n",
    "        BestIndex = -1\n",
    "        for i in range(NO_KIDS):\n",
    "                if (FITNESS[i] < BestFitness):\n",
    "                        BestFitness = FITNESS[i]\n",
    "                        BestIndex = i\n",
    "\n",
    "        return BestIndex"
   ]
  },
  {
   "cell_type": "markdown",
   "metadata": {},
   "source": [
    "In this case, as we wish to determine the minimum of the Goldstein-Price function, we are searching for a member of the population with the lowest value of the fitness. We are only interested in returning the best (fittest) member of the population - or specifically, the index to them, which we will require for the next function - the ComputeNextGeneration() function.\n",
    "\n",
    "## Genetic Algorithm Core\n",
    "\n",
    "Below you'll see a section of code which contains the core components of the Differential Evolution (DE) computation. When moving from generation to generation, the DNA of the members evolves through reproduction - that is, parents are selected and the DNA for their offspring selected based on the value of the parents. In this approach, we actually have 3 parents:\n",
    "\n",
    "* Parent A, which is always the member of the generation which is the \"fittest\" - in this case, the parent which has the lowest value of the Goldstein-Price function.\n",
    "* Parents B and C, which are randomly selected parents from the population.\n",
    "\n",
    "When computing the value of a child's DNA, there are two steps - combination and mutation. \n",
    "\n",
    "### Reproduction - Combination\n",
    "\n",
    "In the case of this Differential Evolution algorithm, combination is the linear process by which two parents contribute towards their child's genome. We might imagine that the genome of a child is based on a weighted contribution from their parents:\n",
    "\n",
    "\\begin{align}\n",
    "X_{child} = W_f X_A + (1-W_f) X_B\n",
    "\\end{align}\n",
    "\n",
    "Where $W_f$ is a value between 0 and 1. In the case of the algorithm below, the value of $W_f$ is computed as:\n",
    "\n",
    "\\begin{align}\n",
    "W_f = FR*max(R_f, 1 - R_f)\n",
    "\\end{align}\n",
    "\n",
    "where $R_f$ is a random number generated from a uniform distribution from 0 to 1. In this way, we can see that, while the contribution to the childs genome is random, we always tend to lean towards Parent A - which, as you might recall, was the \"fittest\" parent. Finally, we have a parameter - FR - which is nominally unity (i.e. 1) but can be increased to accelerate convergence on an optimal solution.\n",
    "\n",
    "### Reproduction - Mutation\n",
    "\n",
    "In biology, mutation is the result of an error occuring during the DNA replication process - resulting in an increased variance in population parameters in a seemingly random manner. We have adopted this process in our reproduction phase of our genetic algorithm - the value of a childs genome is subject to random alteration based on the variance of that genome in the population. In the algorithm used in the python script below, we select a third parent (Parent C) to help predict the amount of variance present (for any given genome) which is then used to compute the magnitude of the mutation applied. \n",
    "\n",
    "Taking mutation into account, the value of a new child's genome is:\n",
    "\n",
    "\\begin{align}\n",
    "X_{child} = W_f X_A + (1-W_f) X_B + \\sigma R_n (X_C - X_B)\n",
    "\\end{align}\n",
    "\n",
    "where the first part is the combination process described previously, and $R_n$ is a normally distributed random number with a mean of 0 and a variance of 1 and $\\sigma$ is a solution parameter (nominally 1) which we can control to increase / decrease the amount of mutation present. \n",
    "\n",
    "\n"
   ]
  },
  {
   "cell_type": "code",
   "execution_count": 3,
   "metadata": {},
   "outputs": [],
   "source": [
    "def MaxMod(X):\n",
    "        if (X > 0.5):\n",
    "                return X\n",
    "        else:\n",
    "                return (1.0-X)\n",
    "            \n",
    "\n",
    "def ComputeNextGeneration(DNA, FITNESS, BESTINDEX, FR, SIGMA):\n",
    "\n",
    "        NO_KIDS,NO_VAR = DNA.shape\n",
    "        trial_dna = np.empty(NO_VAR)\n",
    "\n",
    "        # Assume the next generation will be identical\n",
    "        new_dna = DNA\n",
    "        new_fitness = FITNESS\n",
    "\n",
    "        # Compute a replacement for each member of this generation\n",
    "        for i in range(NO_KIDS):\n",
    "                # Pick parents\n",
    "                Parent_A = BESTINDEX\n",
    "                Parent_B = Parent_A\n",
    "                Parent_C = Parent_A\n",
    "                while ((Parent_A == Parent_B) or (Parent_A == Parent_C) or (Parent_B == Parent_C)):\n",
    "                        # Select Parent B and C randomly from the population\n",
    "                        Parent_B = np.random.randint(NO_KIDS)\n",
    "                        Parent_C = np.random.randint(NO_KIDS)\n",
    "\n",
    "                # Compute the dna of the trial child\n",
    "                for j in range(NO_VAR):\n",
    "                        Rf = FR*MaxMod(np.random.rand())\n",
    "                        Rnf = SIGMA*np.random.randn()\n",
    "                        trial_dna[j] = Rf*DNA[Parent_A,j]+(1.0-Rf)*DNA[Parent_B,j] + Rnf*(DNA[Parent_B,j]-DNA[Parent_C,j])\n",
    "\n",
    "                # Compute the fitness of the trial child\n",
    "                trial_fitness = ComputeFitness(trial_dna)\n",
    "\n",
    "                \n",
    "                if (np.abs(trial_fitness) < np.abs(FITNESS[i])):\n",
    "                        # This trial child has better dna. Make the change.\n",
    "                        new_fitness[i] = trial_fitness\n",
    "                        new_dna[i,:] = trial_dna\n",
    "\n",
    "        # Return the next generations data\n",
    "        return new_dna, new_fitness\n"
   ]
  },
  {
   "cell_type": "markdown",
   "metadata": {},
   "source": [
    "### Running the Simulation\n",
    "\n",
    "Now we have all the functions we need taken care of, we can start by choosing the number of kids in each generation (NO_KIDS), the number of solution parameters we have (NO_VAR = 2 for the Goldstein-Price function), the number of generations (NO_GEN) and the values of $FR$ and $\\sigma$ (SIGMA):"
   ]
  },
  {
   "cell_type": "code",
   "execution_count": 4,
   "metadata": {},
   "outputs": [],
   "source": [
    "# Commence the main program sequence\n",
    "# Assign solution parameters\n",
    "NO_KIDS = 30\n",
    "NO_VAR = 2\n",
    "NO_GEN = 10\n",
    "FR = 1.0\n",
    "SIGMA = 1.0"
   ]
  },
  {
   "cell_type": "markdown",
   "metadata": {},
   "source": [
    "Next, we need to set the initial values of the dna for the NO_KIDS kids in the population. Ideally, we would like the range of these initial values to be large enough to capture the global minima / maxima, but as we are about to see, this is not required: let's randomly guess the solutions for our minimization problem as being uniformly distributed across the range 0-1."
   ]
  },
  {
   "cell_type": "code",
   "execution_count": 5,
   "metadata": {},
   "outputs": [],
   "source": [
    "# Initialise the problem\n",
    "kid_dna = np.random.rand(NO_KIDS, NO_VAR)\n",
    "kid_fitness = np.zeros(NO_KIDS)\n",
    "history_fitness = np.empty(NO_GEN)\n",
    "history_dna = np.zeros((NO_GEN,NO_VAR))"
   ]
  },
  {
   "cell_type": "markdown",
   "metadata": {},
   "source": [
    "Note that, above, we assign an array of zeros for the kids fitness. Let's compute the fitness for each child, and then find the best child - in this case, the one with the lowest value of the Goldstein-Price function - by calling some of the functions decribed previously:"
   ]
  },
  {
   "cell_type": "code",
   "execution_count": 6,
   "metadata": {},
   "outputs": [
    {
     "name": "stdout",
     "output_type": "stream",
     "text": [
      "The best kid in the population has fitness 674.849 at (0.0635186, 0.0436979)\n"
     ]
    }
   ],
   "source": [
    "# Find the child with the best dna\n",
    "for i in range(NO_KIDS):\n",
    "        kid_fitness[i] = ComputeFitness(kid_dna[i,:])\n",
    "# Find the Index of the best kid based on fitness\n",
    "BestKid = ComputeBestKid(kid_fitness)\n",
    "print(\"The best kid in the population has fitness %g at (%g, %g)\" % (kid_fitness[BestKid], kid_dna[BestKid,0], kid_dna[BestKid,1]))"
   ]
  },
  {
   "cell_type": "markdown",
   "metadata": {},
   "source": [
    "We are finally ready to start our evolution simulation, where we have subsequent generations of children working together to produce new children whose genetic properties are computed using the algorithm we described above. For each generation, we need to:\n",
    "\n",
    "* Compute the new generation's genetic properties (ComputeNextGeneration()), and\n",
    "* Find the \"alpha\" in that generation (i.e. the best one) (ComputeBestKid())\n",
    "\n",
    "We are also going to save some historical data so we can better understand the evolution towards our optimal result."
   ]
  },
  {
   "cell_type": "code",
   "execution_count": 12,
   "metadata": {},
   "outputs": [
    {
     "name": "stdout",
     "output_type": "stream",
     "text": [
      "Iteration 0 - best fitness = 3 at (9.25907e-06, -1.00002)\n",
      "Iteration 1 - best fitness = 3 at (2.15225e-05, -0.999999)\n",
      "Iteration 2 - best fitness = 3 at (3.42681e-06, -0.999993)\n",
      "Iteration 3 - best fitness = 3 at (3.42681e-06, -0.999993)\n",
      "Iteration 4 - best fitness = 3 at (-1.42156e-06, -1)\n",
      "Iteration 5 - best fitness = 3 at (-2.29213e-07, -1)\n",
      "Iteration 6 - best fitness = 3 at (-2.29213e-07, -1)\n",
      "Iteration 7 - best fitness = 3 at (-3.54483e-07, -1)\n",
      "Iteration 8 - best fitness = 3 at (-2.61496e-07, -1)\n",
      "Iteration 9 - best fitness = 3 at (2.30424e-07, -1)\n"
     ]
    }
   ],
   "source": [
    "# Iterate over generations to evolve the population\n",
    "for gen in range(NO_GEN):\n",
    "        kid_dna, kid_fitness = ComputeNextGeneration(kid_dna,kid_fitness,BestKid, FR, SIGMA)\n",
    "        BestKid = ComputeBestKid(kid_fitness)\n",
    "        history_fitness[gen] = kid_fitness[BestKid]\n",
    "        history_dna[gen,:] = kid_dna[BestKid,:]\n",
    "        # Write a report\n",
    "        print(\"Iteration %d - best fitness = %g at (%g, %g)\" % (gen, kid_fitness[BestKid], kid_dna[BestKid,0], kid_dna[BestKid,1]))"
   ]
  },
  {
   "cell_type": "markdown",
   "metadata": {},
   "source": [
    "### Result\n",
    "\n",
    "If everything has gone to plan, we can see that our population has produced a child containing our optimal solution, or something close to it. Keep in mind the analytical minima for the Goldstein-Price function is 3, located at (0,-1) - if we are lucky, we shoudl see that we have converged on this result. The iteration towards this result is not guaranteed to be smooth - advances through evolution rarely are. However, you might experiment with the values of $FR$ and $\\sigma$ to see how they influence the rate at which we reach our solution.\n",
    "\n",
    "Finally, let's have a look at the convergence on a graph:"
   ]
  },
  {
   "cell_type": "code",
   "execution_count": 11,
   "metadata": {},
   "outputs": [
    {
     "data": {
      "image/png": "[encoded data removed]",
      "text/plain": [
       "<Figure size 432x288 with 2 Axes>"
      ]
     },
     "metadata": {
      "needs_background": "light"
     },
     "output_type": "display_data"
    }
   ],
   "source": [
    "fig,ax = plt.subplots()\n",
    "ax.plot(history_dna)\n",
    "ax.set(xlabel='Generation Number',ylabel='DNA Values')\n",
    "ax2 = ax.twinx()\n",
    "ax2.semilogy(history_fitness,'r')\n",
    "ax2.set(ylabel='Fitness')\n",
    "plt.show()"
   ]
  },
  {
   "cell_type": "markdown",
   "metadata": {},
   "source": [
    "And let's look at the value of the average fitness computed across for the entire population."
   ]
  },
  {
   "cell_type": "code",
   "execution_count": 9,
   "metadata": {},
   "outputs": [
    {
     "name": "stdout",
     "output_type": "stream",
     "text": [
      "====== FINAL REPORT ========\n",
      "Average fitness of final generation = 3.30492\n",
      "Best Kid's Fitness: 3.00742\n",
      "Best Kid's DNA Parameter values:\n",
      "-- DNA Parameter 0 = -0.00298044\n",
      "-- DNA Parameter 1 = -1.00428\n"
     ]
    }
   ],
   "source": [
    "print(\"====== FINAL REPORT ========\")\n",
    "print(\"Average fitness of final generation = %g\" % np.mean(kid_fitness))\n",
    "print(\"Best Kid's Fitness: %g\" % kid_fitness[BestKid])\n",
    "print(\"Best Kid's DNA Parameter values:\")\n",
    "for i in range(NO_VAR):\n",
    "        print(\"-- DNA Parameter %d = %g\" % (i,kid_dna[BestKid,i]))\n"
   ]
  },
  {
   "cell_type": "markdown",
   "metadata": {},
   "source": [
    "## Concluding Remarks\n",
    "\n",
    "Genetic Algorithms (GA's) have the ability to find global maxima or minima in functions which contain many local minima / maxima, and for this reason have found quite extensive use in complication optimization problems. Feel free to experiment with the function you are optimizing - you can find a list of functions used to test optimization routines by googling \"optimization test cases\".  "
   ]
  }
 ],
 "metadata": {
  "kernelspec": {
   "display_name": "Python 2",
   "language": "python",
   "name": "python2"
  },
  "language_info": {
   "codemirror_mode": {
    "name": "ipython",
    "version": 2
   },
   "file_extension": ".py",
   "mimetype": "text/x-python",
   "name": "python",
   "nbconvert_exporter": "python",
   "pygments_lexer": "ipython2",
   "version": "2.7.15"
  }
 },
 "nbformat": 4,
 "nbformat_minor": 2
}
